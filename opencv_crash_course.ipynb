{
  "nbformat": 4,
  "nbformat_minor": 0,
  "metadata": {
    "colab": {
      "name": "opencv-crash-course.ipynb",
      "provenance": [],
      "toc_visible": true,
      "authorship_tag": "ABX9TyPuVdrDdIJXI6q5JJP9o5Qd",
      "include_colab_link": true
    },
    "kernelspec": {
      "name": "python3",
      "display_name": "Python 3"
    }
  },
  "cells": [
    {
      "cell_type": "markdown",
      "metadata": {
        "id": "view-in-github",
        "colab_type": "text"
      },
      "source": [
        "<a href=\"https://colab.research.google.com/github/naanadr/opencv-crash-course/blob/master/opencv_crash_course.ipynb\" target=\"_parent\"><img src=\"https://colab.research.google.com/assets/colab-badge.svg\" alt=\"Open In Colab\"/></a>"
      ]
    },
    {
      "cell_type": "markdown",
      "metadata": {
        "id": "rLbz2ufrV_Aw",
        "colab_type": "text"
      },
      "source": [
        "# Apresentação\n",
        "\n",
        "![python-happy](https://cdn.instructables.com/FX2/ZGF0/JEYIRWX2/FX2ZGF0JEYIRWX2.LARGE.jpg?auto=webp&fit=bounds)\n",
        "\n",
        "\n",
        "Nesse breve *(bem breve)* curso você aprenderá alguns conceitos básicos de visão computacional e de OpenCV.\n",
        "\n",
        "Como o notebook será utilizado no GoogleColab não será preciso instalar nada.\n",
        "\n",
        "Meus contatos caso queira enviar feedbacks ou tirar dúvidas:\n",
        "* [GitHub](https://github.com/naanadr)\n",
        "* [Twitter](https://twitter.com/naanadr)\n",
        "* Telegram @naanadr\n",
        "\n",
        "Espero que gostem :)\n",
        "\n"
      ]
    },
    {
      "cell_type": "markdown",
      "metadata": {
        "id": "5wO8gZ_Ehvep",
        "colab_type": "text"
      },
      "source": [
        "## Configurações necessárias apenas para o GoogleColab\n",
        "\n",
        "Precisamos ter acesso as imagens que estão localizadas no repositório https://github.com/naanadr/opencv-crash-course. \n",
        "\n",
        "**Como vamos fazer isso?** Iremos precisar clonar (`git clone ...`) o repositório nessa seção do Colab.\n"
      ]
    },
    {
      "cell_type": "code",
      "metadata": {
        "id": "CAP9B9C2iIPi",
        "colab_type": "code",
        "outputId": "0b735e3a-43c5-49ee-c7d8-900fa647c7e3",
        "colab": {
          "base_uri": "https://localhost:8080/",
          "height": 121
        }
      },
      "source": [
        "!git clone https://github.com/naanadr/opencv-crash-course.git"
      ],
      "execution_count": 0,
      "outputs": [
        {
          "output_type": "stream",
          "text": [
            "Cloning into 'opencv-crash-course'...\n",
            "remote: Enumerating objects: 75, done.\u001b[K\n",
            "remote: Counting objects:   1% (1/75)\u001b[K\rremote: Counting objects:   2% (2/75)\u001b[K\rremote: Counting objects:   4% (3/75)\u001b[K\rremote: Counting objects:   5% (4/75)\u001b[K\rremote: Counting objects:   6% (5/75)\u001b[K\rremote: Counting objects:   8% (6/75)\u001b[K\rremote: Counting objects:   9% (7/75)\u001b[K\rremote: Counting objects:  10% (8/75)\u001b[K\rremote: Counting objects:  12% (9/75)\u001b[K\rremote: Counting objects:  13% (10/75)\u001b[K\rremote: Counting objects:  14% (11/75)\u001b[K\rremote: Counting objects:  16% (12/75)\u001b[K\rremote: Counting objects:  17% (13/75)\u001b[K\rremote: Counting objects:  18% (14/75)\u001b[K\rremote: Counting objects:  20% (15/75)\u001b[K\rremote: Counting objects:  21% (16/75)\u001b[K\rremote: Counting objects:  22% (17/75)\u001b[K\rremote: Counting objects:  24% (18/75)\u001b[K\rremote: Counting objects:  25% (19/75)\u001b[K\rremote: Counting objects:  26% (20/75)\u001b[K\rremote: Counting objects:  28% (21/75)\u001b[K\rremote: Counting objects:  29% (22/75)\u001b[K\rremote: Counting objects:  30% (23/75)\u001b[K\rremote: Counting objects:  32% (24/75)\u001b[K\rremote: Counting objects:  33% (25/75)\u001b[K\rremote: Counting objects:  34% (26/75)\u001b[K\rremote: Counting objects:  36% (27/75)\u001b[K\rremote: Counting objects:  37% (28/75)\u001b[K\rremote: Counting objects:  38% (29/75)\u001b[K\rremote: Counting objects:  40% (30/75)\u001b[K\rremote: Counting objects:  41% (31/75)\u001b[K\rremote: Counting objects:  42% (32/75)\u001b[K\rremote: Counting objects:  44% (33/75)\u001b[K\rremote: Counting objects:  45% (34/75)\u001b[K\rremote: Counting objects:  46% (35/75)\u001b[K\rremote: Counting objects:  48% (36/75)\u001b[K\rremote: Counting objects:  49% (37/75)\u001b[K\rremote: Counting objects:  50% (38/75)\u001b[K\rremote: Counting objects:  52% (39/75)\u001b[K\rremote: Counting objects:  53% (40/75)\u001b[K\rremote: Counting objects:  54% (41/75)\u001b[K\rremote: Counting objects:  56% (42/75)\u001b[K\rremote: Counting objects:  57% (43/75)\u001b[K\rremote: Counting objects:  58% (44/75)\u001b[K\rremote: Counting objects:  60% (45/75)\u001b[K\rremote: Counting objects:  61% (46/75)\u001b[K\rremote: Counting objects:  62% (47/75)\u001b[K\rremote: Counting objects:  64% (48/75)\u001b[K\rremote: Counting objects:  65% (49/75)\u001b[K\rremote: Counting objects:  66% (50/75)\u001b[K\rremote: Counting objects:  68% (51/75)\u001b[K\rremote: Counting objects:  69% (52/75)\u001b[K\rremote: Counting objects:  70% (53/75)\u001b[K\rremote: Counting objects:  72% (54/75)\u001b[K\rremote: Counting objects:  73% (55/75)\u001b[K\rremote: Counting objects:  74% (56/75)\u001b[K\rremote: Counting objects:  76% (57/75)\u001b[K\rremote: Counting objects:  77% (58/75)\u001b[K\rremote: Counting objects:  78% (59/75)\u001b[K\rremote: Counting objects:  80% (60/75)\u001b[K\rremote: Counting objects:  81% (61/75)\u001b[K\rremote: Counting objects:  82% (62/75)\u001b[K\rremote: Counting objects:  84% (63/75)\u001b[K\rremote: Counting objects:  85% (64/75)\u001b[K\rremote: Counting objects:  86% (65/75)\u001b[K\rremote: Counting objects:  88% (66/75)\u001b[K\rremote: Counting objects:  89% (67/75)\u001b[K\rremote: Counting objects:  90% (68/75)\u001b[K\rremote: Counting objects:  92% (69/75)\u001b[K\rremote: Counting objects:  93% (70/75)\u001b[K\rremote: Counting objects:  94% (71/75)\u001b[K\rremote: Counting objects:  96% (72/75)\u001b[K\rremote: Counting objects:  97% (73/75)\u001b[K\rremote: Counting objects:  98% (74/75)\u001b[K\rremote: Counting objects: 100% (75/75)\u001b[K\rremote: Counting objects: 100% (75/75), done.\u001b[K\n",
            "remote: Compressing objects: 100% (67/67), done.\u001b[K\n",
            "remote: Total 75 (delta 23), reused 41 (delta 7), pack-reused 0\u001b[K\n",
            "Unpacking objects: 100% (75/75), done.\n"
          ],
          "name": "stdout"
        }
      ]
    },
    {
      "cell_type": "markdown",
      "metadata": {
        "id": "EFb2KZ6xiPl8",
        "colab_type": "text"
      },
      "source": [
        "Agora temos o projeto `opencv-crash-course` clonado no disco da nossa máquina virtual.\n",
        "\n",
        "Mas se você der uma olhada em qual diretório nos estamos, você verá que não estamos dentro do `opencv-crash-course`"
      ]
    },
    {
      "cell_type": "code",
      "metadata": {
        "id": "2OX7MlmIitav",
        "colab_type": "code",
        "outputId": "9419ec93-6353-4676-88ac-25dac7cae825",
        "colab": {
          "base_uri": "https://localhost:8080/",
          "height": 34
        }
      },
      "source": [
        "!ls"
      ],
      "execution_count": 0,
      "outputs": [
        {
          "output_type": "stream",
          "text": [
            "opencv-crash-course  sample_data\n"
          ],
          "name": "stdout"
        }
      ]
    },
    {
      "cell_type": "markdown",
      "metadata": {
        "id": "dMpdW8W8i2Al",
        "colab_type": "text"
      },
      "source": [
        "Para acessar a pasta do projeto, precisamos executar um `cd` igual fazemos no `Windows` ou `Linux`."
      ]
    },
    {
      "cell_type": "code",
      "metadata": {
        "id": "vyVcU7DUixfA",
        "colab_type": "code",
        "outputId": "f38ce41b-1060-4055-a903-a5a26e175253",
        "colab": {
          "base_uri": "https://localhost:8080/",
          "height": 34
        }
      },
      "source": [
        "cd opencv-crash-course/"
      ],
      "execution_count": 0,
      "outputs": [
        {
          "output_type": "stream",
          "text": [
            "/content/opencv-crash-course\n"
          ],
          "name": "stdout"
        }
      ]
    },
    {
      "cell_type": "code",
      "metadata": {
        "id": "FK-l5jdai0Ir",
        "colab_type": "code",
        "outputId": "ddaf41bc-d0ad-4598-a6f7-e4edaf203043",
        "colab": {
          "base_uri": "https://localhost:8080/",
          "height": 34
        }
      },
      "source": [
        "!ls"
      ],
      "execution_count": 0,
      "outputs": [
        {
          "output_type": "stream",
          "text": [
            "images\tREADME.md\n"
          ],
          "name": "stdout"
        }
      ]
    },
    {
      "cell_type": "markdown",
      "metadata": {
        "id": "Km8ZvQYrfTdE",
        "colab_type": "text"
      },
      "source": [
        "# Mas o que é OpenCV?\n",
        "\n",
        "![logo-opencv](https://i0.wp.com/syncedreview.com/wp-content/uploads/2019/04/image-38-2.png?resize=1440%2C521&ssl=1)"
      ]
    },
    {
      "cell_type": "markdown",
      "metadata": {
        "id": "HrEFTj_6kYEH",
        "colab_type": "text"
      },
      "source": [
        "**Open Source Computer Vision Library** ou OpenCV *para os amigos*, é uma biblioteca de **Visão Computacional** de alto desempenho e com [código aberto](https://github.com/opencv/opencv).\n",
        "\n",
        "\n",
        "\n",
        "*   **1999-2008**\n",
        "\n",
        "  Intel\n",
        "\n",
        "  OpenCV 1.x\n",
        "  \n",
        "  Linguagem: C\n",
        "\n",
        "*   **2008-2012**\n",
        "\n",
        "  Willow Garage\n",
        "  \n",
        "  OpenCV 2.x\n",
        "\n",
        "  Linguagem: C++\n",
        "\n",
        "*  **2012-Atualmente**\n",
        "\n",
        "  Itseez E OpenCV Foundation\n",
        "\n",
        "  Opencv 3.x e 4.x\n",
        "\n",
        "  Linguage: C++, MATLAB, Python e Java\n",
        "\n",
        "  Suportado em: Windows, Linux, Android e Mac OS\n"
      ]
    },
    {
      "cell_type": "markdown",
      "metadata": {
        "id": "yL1XIZ6HqyjG",
        "colab_type": "text"
      },
      "source": [
        "O OpenCV é bem abrangente \\o/\n",
        "\n",
        "\n",
        "![mod-opencv](https://static.packt-cdn.com/products/9781789344912/graphics/5b11d8ad-3e44-4c08-b171-f202986a471f.png)"
      ]
    },
    {
      "cell_type": "markdown",
      "metadata": {
        "id": "c_bIURyIpkDD",
        "colab_type": "text"
      },
      "source": [
        "## Documentação\n",
        "\n",
        "\n",
        "\n",
        "*   [Todas as versões](https://docs.opencv.org/)\n",
        "*   [4.2.0](https://docs.opencv.org/4.2.0/)\n",
        "\n"
      ]
    },
    {
      "cell_type": "markdown",
      "metadata": {
        "id": "PciJD3dbfWad",
        "colab_type": "text"
      },
      "source": [
        "## Por que não utilizar o [Pillow](https://pillow.readthedocs.io/en/stable/)?\n",
        "\n",
        "O Pillow serve para *carregar, processar e criar* imagens, o OpenCV é mais *robusto*."
      ]
    },
    {
      "cell_type": "markdown",
      "metadata": {
        "id": "Xq6uv5hdfctQ",
        "colab_type": "text"
      },
      "source": [
        "# Conceitos básicos\n",
        "\n",
        "![visao](https://encrypted-tbn0.gstatic.com/images?q=tbn%3AANd9GcRJ23xbK61X3NrPdGIJXSJK0RK-xYEg4Hfc7Z-YelBYkxrCflc3)"
      ]
    },
    {
      "cell_type": "markdown",
      "metadata": {
        "id": "RE8lAGdZ0cbv",
        "colab_type": "text"
      },
      "source": [
        "## Visão Computacional e Processamento de Imagem\n",
        "\n",
        "**Visão Computacional** é a capacidade de replicar a visão humana utilizando softwares e hardwares. A visão humana é capaz de reconhecer objetos, além de conseguir se adaptar a variações de luz, perspectiva, tamanho de um objeto e de uma cena.\n",
        "\n",
        "A partir do reconhecimento de objetos, a visão consegue extrair significados que ajudam em uma tomada de decisão. \n",
        "\n",
        "Enquanto que o **Processamento de Imagem** consiste de realizar operações em imagem, com o intuito de realizar reconhecimento de objetos e caracteristicas que podem ser utilizadas em etapas futuras (Visão Computacional)"
      ]
    },
    {
      "cell_type": "markdown",
      "metadata": {
        "id": "mBg_Qk95f8Mq",
        "colab_type": "text"
      },
      "source": [
        "## O que é uma imagem?\n",
        "\n",
        "![image-matriz](https://s.aolcdn.com/hss/storage/midas/4aeec6942154616778c945d280c5257a/204245867/Untitled.png)\n",
        "\n",
        "\n"
      ]
    },
    {
      "cell_type": "markdown",
      "metadata": {
        "id": "8-ERerRC6cR7",
        "colab_type": "text"
      },
      "source": [
        "![image-pos-matriz](https://media.geeksforgeeks.org/wp-content/uploads/gfg2-5.png)\n",
        "\n",
        "É uma matriz de números inteiros!"
      ]
    },
    {
      "cell_type": "markdown",
      "metadata": {
        "id": "S2yGtTfO5jE-",
        "colab_type": "text"
      },
      "source": [
        "### Imagens coloridas (RGB)\n"
      ]
    },
    {
      "cell_type": "markdown",
      "metadata": {
        "id": "NYtDX25vj6A_",
        "colab_type": "text"
      },
      "source": [
        "![rgb-representacao](https://corochann.com/wp-content/uploads/2017/04/cnn_diagram_notation.png) "
      ]
    },
    {
      "cell_type": "markdown",
      "metadata": {
        "id": "UsZ-f4Zj7bqu",
        "colab_type": "text"
      },
      "source": [
        "#### Código! \n",
        "\n",
        "Antes vamos importar o OpenCV.\n",
        "\n",
        "Lembrando que estamos utilizando o Google Colab e ele já tem o OpenCV instalado.\n",
        "\n",
        "PS: No Colab iremos utilizar o `cv2_imshow`, porque o `cv2.imshow()` do OpenCV não funciona aqui. "
      ]
    },
    {
      "cell_type": "code",
      "metadata": {
        "id": "pL8h8E4Z7Doz",
        "colab_type": "code",
        "colab": {}
      },
      "source": [
        "import cv2"
      ],
      "execution_count": 0,
      "outputs": []
    },
    {
      "cell_type": "code",
      "metadata": {
        "id": "srfBDZjl72iW",
        "colab_type": "code",
        "colab": {}
      },
      "source": [
        "from google.colab.patches import cv2_imshow"
      ],
      "execution_count": 0,
      "outputs": []
    },
    {
      "cell_type": "markdown",
      "metadata": {
        "id": "_seJoXzQ8h41",
        "colab_type": "text"
      },
      "source": [
        "#### Leitura de imagem\n"
      ]
    },
    {
      "cell_type": "code",
      "metadata": {
        "id": "GphVMH-77gpH",
        "colab_type": "code",
        "colab": {}
      },
      "source": [
        "image = cv2.imread('images/panda01.jpg')"
      ],
      "execution_count": 0,
      "outputs": []
    },
    {
      "cell_type": "code",
      "metadata": {
        "id": "egpe_cdt8LA7",
        "colab_type": "code",
        "colab": {}
      },
      "source": [
        "image"
      ],
      "execution_count": 0,
      "outputs": []
    },
    {
      "cell_type": "code",
      "metadata": {
        "id": "K2HecIFU8WW9",
        "colab_type": "code",
        "colab": {}
      },
      "source": [
        "cv2_imshow(image)\n",
        "#cv2.imshow(image)"
      ],
      "execution_count": 0,
      "outputs": []
    },
    {
      "cell_type": "markdown",
      "metadata": {
        "id": "xwOhKqBP9077",
        "colab_type": "text"
      },
      "source": [
        "#### Informações sobre a imagem\n",
        "\n",
        "\n",
        "\n",
        "*   Forma (altura, largura e quantidade de canais)\n",
        "*   Tamanho (em pixels)\n",
        "\n"
      ]
    },
    {
      "cell_type": "code",
      "metadata": {
        "colab_type": "code",
        "id": "ya0IGNewB6vM",
        "colab": {}
      },
      "source": [
        "image.shape"
      ],
      "execution_count": 0,
      "outputs": []
    },
    {
      "cell_type": "code",
      "metadata": {
        "id": "TrerFvJ6Bvjy",
        "colab_type": "code",
        "colab": {}
      },
      "source": [
        "height, width, channels = image.shape"
      ],
      "execution_count": 0,
      "outputs": []
    },
    {
      "cell_type": "code",
      "metadata": {
        "id": "twrKI0zd_7RA",
        "colab_type": "code",
        "colab": {}
      },
      "source": [
        "image.size  # height * width * channels"
      ],
      "execution_count": 0,
      "outputs": []
    },
    {
      "cell_type": "code",
      "metadata": {
        "id": "agjdYXA_oTQD",
        "colab_type": "code",
        "colab": {}
      },
      "source": [
        "cv2.split(image)  # b, g, r"
      ],
      "execution_count": 0,
      "outputs": []
    },
    {
      "cell_type": "code",
      "metadata": {
        "id": "PyJNSQE2osz8",
        "colab_type": "code",
        "colab": {}
      },
      "source": [
        "b, g, r = cv2.split(image)\n",
        "\n",
        "cv2_imshow(r)\n",
        "\n",
        "# ou\n",
        "# b = image[:, :, 0]\n",
        "# g = image[:, :, 1]\n",
        "# r = image[:, :, 2]"
      ],
      "execution_count": 0,
      "outputs": []
    },
    {
      "cell_type": "markdown",
      "metadata": {
        "id": "XJv8EAp3VtVc",
        "colab_type": "text"
      },
      "source": [
        "#### Brincando um pouco com a altura e largura"
      ]
    },
    {
      "cell_type": "code",
      "metadata": {
        "id": "JiIaedylVwuI",
        "colab_type": "code",
        "colab": {}
      },
      "source": [
        "half_height = int(height/2)\n",
        "half_width = int(width/2)"
      ],
      "execution_count": 0,
      "outputs": []
    },
    {
      "cell_type": "code",
      "metadata": {
        "id": "RQZFwtFnV_R4",
        "colab_type": "code",
        "outputId": "0bbac6aa-f112-4afa-aa87-009bc6564fdd",
        "colab": {
          "base_uri": "https://localhost:8080/",
          "height": 243
        }
      },
      "source": [
        "cv2_imshow(image[0:half_height, 0:half_width])"
      ],
      "execution_count": 0,
      "outputs": [
        {
          "output_type": "display_data",
          "data": {
            "image/png": "[encoded data removed]",
            "text/plain": [
              "<PIL.Image.Image image mode=RGB size=339x226 at 0x7FE581F2E3C8>"
            ]
          },
          "metadata": {
            "tags": []
          }
        }
      ]
    },
    {
      "cell_type": "markdown",
      "metadata": {
        "id": "hY7JHaHoW124",
        "colab_type": "text"
      },
      "source": [
        "#### Sua vez!\n",
        "\n",
        "Tente repartir a imagem em 4 partes (ou mais).\n",
        "\n",
        "Se você quiser pode brincar com os pixels daquela região, ex:\n",
        "\n",
        "`image[start:fim_height, start:fim_width] = (255, 0, 0)`"
      ]
    },
    {
      "cell_type": "code",
      "metadata": {
        "id": "TGc-y5cQWUIm",
        "colab_type": "code",
        "colab": {}
      },
      "source": [
        ""
      ],
      "execution_count": 0,
      "outputs": []
    },
    {
      "cell_type": "markdown",
      "metadata": {
        "id": "pnA51WT8Bkrt",
        "colab_type": "text"
      },
      "source": [
        "### Como ler uma imagem em tons de cinza?\n",
        "\n",
        "`cv2.imread(path, flag)`\n",
        "\n",
        "Flag pode ser 1 (com cor), 0 (em tons de cinza), -1 (inclui o canal alfa).\n"
      ]
    },
    {
      "cell_type": "code",
      "metadata": {
        "id": "k5RQRfzjCFVa",
        "colab_type": "code",
        "colab": {}
      },
      "source": [
        "image_gray = cv2.imread('images/panda01.jpg', 0)\n",
        "\n",
        "# image_gray = cv2.cvtColor(image, cv2.COLOR_BGR2GRAY)\n",
        "\n",
        "cv2_imshow(image_gray)"
      ],
      "execution_count": 0,
      "outputs": []
    },
    {
      "cell_type": "code",
      "metadata": {
        "id": "8licbtvFD521",
        "colab_type": "code",
        "colab": {}
      },
      "source": [
        "image"
      ],
      "execution_count": 0,
      "outputs": []
    },
    {
      "cell_type": "code",
      "metadata": {
        "id": "4_GmPyfxD9Zh",
        "colab_type": "code",
        "colab": {}
      },
      "source": [
        "image_gray"
      ],
      "execution_count": 0,
      "outputs": []
    },
    {
      "cell_type": "code",
      "metadata": {
        "id": "9IhUeeOvlqQJ",
        "colab_type": "code",
        "colab": {}
      },
      "source": [
        "image_gray.shape"
      ],
      "execution_count": 0,
      "outputs": []
    },
    {
      "cell_type": "markdown",
      "metadata": {
        "id": "5CajeLfMh0ie",
        "colab_type": "text"
      },
      "source": [
        "![gray-matriz](https://edtech.engineering.utoronto.ca/sites/default/files/M6_2DImageDigitalRepresentation.png)\n"
      ]
    },
    {
      "cell_type": "markdown",
      "metadata": {
        "id": "psxSWFwPm8oX",
        "colab_type": "text"
      },
      "source": [
        "### E esse tal de canal alfa?"
      ]
    },
    {
      "cell_type": "code",
      "metadata": {
        "id": "-TbdcHnZm6-O",
        "colab_type": "code",
        "colab": {}
      },
      "source": [
        "image_png = cv2.imread('images/pugpe.png')\n",
        "\n",
        "cv2_imshow(image_png)"
      ],
      "execution_count": 0,
      "outputs": []
    },
    {
      "cell_type": "code",
      "metadata": {
        "id": "wIlelzqYnPF_",
        "colab_type": "code",
        "colab": {}
      },
      "source": [
        "image_png = cv2.imread('images/pugpe.png', -1)\n",
        "\n",
        "cv2_imshow(image_png)"
      ],
      "execution_count": 0,
      "outputs": []
    },
    {
      "cell_type": "code",
      "metadata": {
        "colab_type": "code",
        "id": "K5tMX0AXlVEj",
        "colab": {}
      },
      "source": [
        "image.shape"
      ],
      "execution_count": 0,
      "outputs": []
    },
    {
      "cell_type": "markdown",
      "metadata": {
        "id": "Fu5blO8yujHF",
        "colab_type": "text"
      },
      "source": [
        "### Nem tudo precisa ser RGB (BGR na verdade)\n",
        "\n",
        "\n",
        "\n",
        "*   HSV\n",
        "*   LAB\n",
        "*   CMYK\n",
        "\n"
      ]
    },
    {
      "cell_type": "markdown",
      "metadata": {
        "id": "HpSYr0UKv-KS",
        "colab_type": "text"
      },
      "source": [
        "#### HSV\n",
        "\n",
        "\n",
        "\n",
        "*   **H**: Tom (0-360 ou 0-179)\n",
        "*   **S**: Saturação (0-100 ou 0-255)\n",
        "*   **V**: Luminosidade (0-100 ou 0-255)\n",
        "\n",
        "\n",
        "\n",
        "![hsv](https://encrypted-tbn0.gstatic.com/images?q=tbn%3AANd9GcTaiHL7MWmfQ3VMFC566DSsgRGUGxTI6NQEulZxM9el02hwMvKc)\n"
      ]
    },
    {
      "cell_type": "markdown",
      "metadata": {
        "id": "iXmKIQ1FQw6r",
        "colab_type": "text"
      },
      "source": [
        "Material interessante sobre o Numpy:\n",
        "\n",
        "* https://jakevdp.github.io/PythonDataScienceHandbook/02.02-the-basics-of-numpy-arrays.html\n"
      ]
    },
    {
      "cell_type": "code",
      "metadata": {
        "id": "hydyw1l41D78",
        "colab_type": "code",
        "colab": {}
      },
      "source": [
        "import numpy as np"
      ],
      "execution_count": 0,
      "outputs": []
    },
    {
      "cell_type": "code",
      "metadata": {
        "colab_type": "code",
        "id": "7--dvWgS3sOg",
        "colab": {}
      },
      "source": [
        "image = cv2.imread('images/pugpe.png')\n",
        "\n",
        "# scale_percent = 60 # percent of original size\n",
        "# width = int(image.shape[1] * scale_percent / 100)\n",
        "# height = int(image.shape[0] * scale_percent / 100)\n",
        "# dim = (width, height)\n",
        "# # resize image\n",
        "# image = cv2.resize(image, dim, interpolation = cv2.INTER_AREA)\n",
        " \n",
        "hsv = cv2.cvtColor(image, cv2.COLOR_BGR2HSV)\n",
        "\n",
        "cv2_imshow(image)"
      ],
      "execution_count": 0,
      "outputs": []
    },
    {
      "cell_type": "code",
      "metadata": {
        "colab_type": "code",
        "id": "f-FQC37m3sO_",
        "colab": {}
      },
      "source": [
        "# range de tons de verde\n",
        "lower_green = np.array([30,100,100])\n",
        "upper_green = np.array([60,255,255])\n",
        "\n",
        "# Imagem binaria com pixels presentes no range fornecido\n",
        "mask = cv2.inRange(hsv, lower_green, upper_green)\n",
        "\n",
        "# Bitwise-AND utilizando a mask gerada\n",
        "res = cv2.bitwise_and(image, image, mask= mask)\n",
        "\n",
        "cv2_imshow(res)"
      ],
      "execution_count": 0,
      "outputs": []
    },
    {
      "cell_type": "markdown",
      "metadata": {
        "id": "s8BmNiJ6vUkM",
        "colab_type": "text"
      },
      "source": [
        "#### Função para utilizar a webcam\n",
        "\n",
        "Como o Google Colab roda no navegador, precisamos utilizar uma função alternativa para `cv2.VideoCapture()`"
      ]
    },
    {
      "cell_type": "code",
      "metadata": {
        "id": "zgtjP7h1upME",
        "colab_type": "code",
        "colab": {}
      },
      "source": [
        "from IPython.display import display, Javascript\n",
        "from google.colab.output import eval_js\n",
        "from base64 import b64decode\n",
        "\n",
        "def take_photo(filename='photo.jpg', quality=0.8):\n",
        "  js = Javascript('''\n",
        "    async function takePhoto(quality) {\n",
        "      const div = document.createElement('div');\n",
        "      const capture = document.createElement('button');\n",
        "      capture.textContent = 'Capture';\n",
        "      div.appendChild(capture);\n",
        "\n",
        "      const video = document.createElement('video');\n",
        "      video.style.display = 'block';\n",
        "      const stream = await navigator.mediaDevices.getUserMedia({video: true});\n",
        "\n",
        "      document.body.appendChild(div);\n",
        "      div.appendChild(video);\n",
        "      video.srcObject = stream;\n",
        "      await video.play();\n",
        "\n",
        "      // Resize the output to fit the video element.\n",
        "      google.colab.output.setIframeHeight(document.documentElement.scrollHeight, true);\n",
        "\n",
        "      // Wait for Capture to be clicked.\n",
        "      await new Promise((resolve) => capture.onclick = resolve);\n",
        "\n",
        "      const canvas = document.createElement('canvas');\n",
        "      canvas.width = video.videoWidth;\n",
        "      canvas.height = video.videoHeight;\n",
        "      canvas.getContext('2d').drawImage(video, 0, 0);\n",
        "      stream.getVideoTracks()[0].stop();\n",
        "      div.remove();\n",
        "      return canvas.toDataURL('image/jpeg', quality);\n",
        "    }\n",
        "    ''')\n",
        "  display(js)\n",
        "  data = eval_js('takePhoto({})'.format(quality))\n",
        "  binary = b64decode(data.split(',')[1])\n",
        "  with open(filename, 'wb') as f:\n",
        "    f.write(binary)\n",
        "  return filename"
      ],
      "execution_count": 0,
      "outputs": []
    },
    {
      "cell_type": "markdown",
      "metadata": {
        "id": "H9rrQtc9yV6X",
        "colab_type": "text"
      },
      "source": [
        "#### Sua vez de testar o HSV!\n",
        "\n",
        "Tire uma foto (utilizando o código a baixo) com algum objeto de cor sobresalente e tente removelo igual o exemplo acima. \n",
        "\n",
        "\n",
        "\n",
        "**DICA** para você saber o valor de uma cor em HSV, utilize:\n",
        "\n",
        "```\n",
        ">>> green = np.uint8([[[0,255,0 ]]])\n",
        ">>> hsv_green = cv2.cvtColor(green,cv2.COLOR_BGR2HSV)\n",
        ">>> print hsv_green\n",
        "[[[ 60 255 255]]]\n",
        "```"
      ]
    },
    {
      "cell_type": "code",
      "metadata": {
        "id": "iR7qmJGCwCO-",
        "colab_type": "code",
        "colab": {}
      },
      "source": [
        "from IPython.display import Image\n",
        "try:\n",
        "  filename = take_photo()\n",
        "  print('Saved to {}'.format(filename))\n",
        "  \n",
        "  # Show the image which was just taken.\n",
        "  display(Image(filename))\n",
        "except Exception as err:\n",
        "  # Errors will be thrown if the user does not have a webcam or if they do not\n",
        "  # grant the page permission to access it.\n",
        "  print(str(err))"
      ],
      "execution_count": 0,
      "outputs": []
    },
    {
      "cell_type": "code",
      "metadata": {
        "id": "PjECZGiQ_3Tw",
        "colab_type": "code",
        "colab": {}
      },
      "source": [
        ""
      ],
      "execution_count": 0,
      "outputs": []
    },
    {
      "cell_type": "markdown",
      "metadata": {
        "id": "Auv3M7Fyg5UA",
        "colab_type": "text"
      },
      "source": [
        "# Desenhando com o OpenCV\n",
        "\n",
        "\n",
        "\n",
        "*   `cv2.line()`\n",
        "*   `cv2.rectangle()`\n",
        "*   `cv2.circle()`\n",
        "*   `cv2.ellipse()`\n",
        "*   `cv2.fillPoly()`\n",
        "\n",
        "\n",
        "Referências:\n",
        "\n",
        "*  https://docs.opencv.org/master/dc/da5/tutorial_py_drawing_functions.html\n",
        "*  https://docs.opencv.org/2.4/modules/core/doc/drawing_functions.html\n"
      ]
    },
    {
      "cell_type": "markdown",
      "metadata": {
        "id": "T87w9I5uaBDz",
        "colab_type": "text"
      },
      "source": [
        "### Criando uma imagem utilizando numpy"
      ]
    },
    {
      "cell_type": "code",
      "metadata": {
        "id": "WJnmoY-EU00l",
        "colab_type": "code",
        "outputId": "ed8f9a09-a69c-4c8a-f6cb-7f284d64800f",
        "colab": {
          "base_uri": "https://localhost:8080/",
          "height": 517
        }
      },
      "source": [
        "black_img = np.zeros((500, 500, 3), np.uint8)\n",
        "\n",
        "cv2_imshow(black_img)"
      ],
      "execution_count": 0,
      "outputs": [
        {
          "output_type": "display_data",
          "data": {
            "image/png": "[encoded data removed]",
            "text/plain": [
              "<PIL.Image.Image image mode=RGB size=500x500 at 0x7FE581EBAEB8>"
            ]
          },
          "metadata": {
            "tags": []
          }
        }
      ]
    },
    {
      "cell_type": "markdown",
      "metadata": {
        "id": "LyT0-LxHaJ8w",
        "colab_type": "text"
      },
      "source": [
        "### Desenhando linhas"
      ]
    },
    {
      "cell_type": "code",
      "metadata": {
        "id": "rzdMoyiZZeKM",
        "colab_type": "code",
        "outputId": "6a99b865-9626-4851-b466-2241da8cf5c1",
        "colab": {
          "base_uri": "https://localhost:8080/",
          "height": 517
        }
      },
      "source": [
        "img_copy = black_img.copy()\n",
        "cv2.line(img_copy, (0, 0), (500, 500), (0, 0, 255), 5)\n",
        "\n",
        "cv2_imshow(img_copy)"
      ],
      "execution_count": 0,
      "outputs": [
        {
          "output_type": "display_data",
          "data": {
            "image/png": "[encoded data removed]",
            "text/plain": [
              "<PIL.Image.Image image mode=RGB size=500x500 at 0x7FE581EBA470>"
            ]
          },
          "metadata": {
            "tags": []
          }
        }
      ]
    },
    {
      "cell_type": "markdown",
      "metadata": {
        "id": "Hoahjc8SaSMH",
        "colab_type": "text"
      },
      "source": [
        "### Desenhando retângulos"
      ]
    },
    {
      "cell_type": "code",
      "metadata": {
        "id": "JVdIHR_9aMFe",
        "colab_type": "code",
        "outputId": "84c1ae8e-e860-41c7-8661-dedbc0128e2a",
        "colab": {
          "base_uri": "https://localhost:8080/",
          "height": 517
        }
      },
      "source": [
        "img_copy = black_img.copy()\n",
        "cv2.rectangle(img_copy, (100, 100), (400, 400), (0, 255, 0), 3)\n",
        "# cv2.rectangle(img_copy, (100, 100), (400, 400), (0, 255, 0), -1)\n",
        "\n",
        "cv2_imshow(img_copy)"
      ],
      "execution_count": 0,
      "outputs": [
        {
          "output_type": "display_data",
          "data": {
            "image/png": "[encoded data removed]",
            "text/plain": [
              "<PIL.Image.Image image mode=RGB size=500x500 at 0x7FE581EBABA8>"
            ]
          },
          "metadata": {
            "tags": []
          }
        }
      ]
    },
    {
      "cell_type": "markdown",
      "metadata": {
        "id": "Iw9KqYKPbUhD",
        "colab_type": "text"
      },
      "source": [
        "### Desenhando circulos"
      ]
    },
    {
      "cell_type": "code",
      "metadata": {
        "id": "g2ZmriRNbXfX",
        "colab_type": "code",
        "outputId": "58282a9e-5d5d-4fd0-b472-083415ca85d3",
        "colab": {
          "base_uri": "https://localhost:8080/",
          "height": 517
        }
      },
      "source": [
        "img_copy = black_img.copy()\n",
        "cv2.circle(img_copy, (100, 100), 100, (0, 255, 0), 3)\n",
        "\n",
        "cv2_imshow(img_copy)"
      ],
      "execution_count": 0,
      "outputs": [
        {
          "output_type": "display_data",
          "data": {
            "image/png": "[encoded data removed]",
            "text/plain": [
              "<PIL.Image.Image image mode=RGB size=500x500 at 0x7FE581EBAEF0>"
            ]
          },
          "metadata": {
            "tags": []
          }
        }
      ]
    },
    {
      "cell_type": "markdown",
      "metadata": {
        "id": "6iTlGlGEgK5x",
        "colab_type": "text"
      },
      "source": [
        "### Adicionando texto"
      ]
    },
    {
      "cell_type": "code",
      "metadata": {
        "id": "3dJVIgmygN4-",
        "colab_type": "code",
        "outputId": "53d7f1d8-f62d-433c-d5a2-07d4822632c4",
        "colab": {
          "base_uri": "https://localhost:8080/",
          "height": 517
        }
      },
      "source": [
        "img_copy = black_img.copy()\n",
        "font = cv2.FONT_HERSHEY_SIMPLEX\n",
        "cv2.putText(img_copy, 'Testando escrita', (120,250), font, 1,\n",
        "            (255,255,255), 2, cv2.LINE_AA)\n",
        "\n",
        "cv2_imshow(img_copy)"
      ],
      "execution_count": 0,
      "outputs": [
        {
          "output_type": "display_data",
          "data": {
            "image/png": "[encoded data removed]",
            "text/plain": [
              "<PIL.Image.Image image mode=RGB size=500x500 at 0x7FE581E18978>"
            ]
          },
          "metadata": {
            "tags": []
          }
        }
      ]
    },
    {
      "cell_type": "markdown",
      "metadata": {
        "id": "PY6HhBYDaexT",
        "colab_type": "text"
      },
      "source": [
        "### Tentativa (falha) de desenhar"
      ]
    },
    {
      "cell_type": "code",
      "metadata": {
        "id": "NUDzeYQqakBV",
        "colab_type": "code",
        "outputId": "dcdf0faf-3e06-49f1-bb3e-c652ab7f4bd0",
        "colab": {
          "base_uri": "https://localhost:8080/",
          "height": 517
        }
      },
      "source": [
        "img = np.zeros((500, 500, 3), np.uint8)\n",
        "\n",
        "cv2.rectangle(img, (50, 50), (450, 450), (100, 255, 0), 2)\n",
        "cv2.rectangle(img, (70, 70), (430, 430), (100, 255, 100), 2)\n",
        "cv2.rectangle(img, (90, 90), (410, 410), (100, 255, 150), 2)\n",
        "cv2.rectangle(img, (110, 110), (390, 390), (100, 255, 200), -1)\n",
        "\n",
        "cv2.circle(img, (250, 250), 138, (150, 255, 200), 2)\n",
        "cv2.circle(img, (250, 250), 118, (170, 255, 200), 2)\n",
        "cv2.circle(img, (250, 250), 98, (190, 255, 200), 2)\n",
        "cv2.circle(img, (250, 250), 78, (210, 255, 200), -1)\n",
        "\n",
        "cv2.line(img, (0, 0), (50, 50), (100, 255, 0), 2)\n",
        "cv2.line(img, (500, 0), (450, 50), (100, 255, 0), 2)\n",
        "cv2.line(img, (0, 500), (50, 450), (100, 255, 0), 2)\n",
        "cv2.line(img, (500, 500), (450, 450), (100, 255, 0), 2)\n",
        "\n",
        "cv2_imshow(img)"
      ],
      "execution_count": 0,
      "outputs": [
        {
          "output_type": "display_data",
          "data": {
            "image/png": "[encoded data removed]",
            "text/plain": [
              "<PIL.Image.Image image mode=RGB size=500x500 at 0x7FE581D93550>"
            ]
          },
          "metadata": {
            "tags": []
          }
        }
      ]
    },
    {
      "cell_type": "markdown",
      "metadata": {
        "id": "SKgLnu2LakoK",
        "colab_type": "text"
      },
      "source": [
        "### Agora é sua vez!\n",
        "\n",
        "Tente fazer uma obra de arte \\o/"
      ]
    },
    {
      "cell_type": "code",
      "metadata": {
        "id": "8gEmbj8Vanii",
        "colab_type": "code",
        "colab": {}
      },
      "source": [
        ""
      ],
      "execution_count": 0,
      "outputs": []
    },
    {
      "cell_type": "markdown",
      "metadata": {
        "id": "Z7woQDfA2e_5",
        "colab_type": "text"
      },
      "source": [
        "# Operações de ponto e de vizinhança\n",
        "\n",
        "\n",
        "\n",
        "![operacao-ponto](https://thezeroalpha.github.io/physcomp-notes/Neighborhood%20processing.resources/screenshot.png) ![vizinhanca](https://3.bp.blogspot.com/-mkiULhyYO5E/WJHa3EjJXnI/AAAAAAAAAiY/u3QzeNqmAvUi8ar8ehpfPnKVieXxLk_7wCLcB/s1600/neighbourhoods.gif)\n",
        "\n",
        "\n",
        "Documentação:\n",
        "\n",
        "*  https://docs.opencv.org/2.4/modules/core/doc/operations_on_arrays.html"
      ]
    },
    {
      "cell_type": "markdown",
      "metadata": {
        "id": "b5YZCSjB219Q",
        "colab_type": "text"
      },
      "source": [
        "## Operações de ponto\n",
        "\n"
      ]
    },
    {
      "cell_type": "markdown",
      "metadata": {
        "id": "jACUzOTa6Raz",
        "colab_type": "text"
      },
      "source": [
        "### Iluminação e contraste"
      ]
    },
    {
      "cell_type": "code",
      "metadata": {
        "id": "JfYEjxEN6UAC",
        "colab_type": "code",
        "colab": {}
      },
      "source": [
        "image = cv2.imread('image/titanic.jpg')\n",
        "\n",
        "cv2_imshow(image)"
      ],
      "execution_count": 0,
      "outputs": []
    },
    {
      "cell_type": "code",
      "metadata": {
        "id": "Pfkxoqco7frB",
        "colab_type": "code",
        "colab": {}
      },
      "source": [
        "new_image = np.zeros(image.shape, image.dtype)\n",
        "\n",
        "alpha = 1.0 # Simple contrast control\n",
        "beta = 0    # Simple brightness control\n",
        "\n",
        "for y in range(image.shape[0]):\n",
        "  for x in range(image.shape[1]):\n",
        "    for c in range(image.shape[2]):\n",
        "      new_image[y,x,c] = np.clip(alpha*image[y,x,c] + beta, 0, 255)\n",
        "\n",
        "\n",
        "cv2_imshow(new_image)"
      ],
      "execution_count": 0,
      "outputs": []
    },
    {
      "cell_type": "markdown",
      "metadata": {
        "id": "uZXlbYIEvR0i",
        "colab_type": "text"
      },
      "source": [
        "### Limiarização\n",
        "\n",
        "Outro jeito de detectar contornos...\n",
        "\n",
        "\n",
        "![threshold](https://encrypted-tbn0.gstatic.com/images?q=tbn%3AANd9GcQWFQQLQAGHCzZIQcDPyL7bBC6_OTOkQor3qQ4z3C7GsuGsehtY)"
      ]
    },
    {
      "cell_type": "code",
      "metadata": {
        "id": "PPvKBmB4vUtM",
        "colab_type": "code",
        "colab": {}
      },
      "source": [
        "image = cv2.imread('images/handwriter02.png', 0)\n",
        "\n",
        "cv2_imshow(image)"
      ],
      "execution_count": 0,
      "outputs": []
    },
    {
      "cell_type": "markdown",
      "metadata": {
        "id": "1S4o60HTyWp_",
        "colab_type": "text"
      },
      "source": [
        "#### Função padrão OpenCV"
      ]
    },
    {
      "cell_type": "code",
      "metadata": {
        "id": "xEgA0bPQv8bv",
        "colab_type": "code",
        "colab": {}
      },
      "source": [
        "_, th = cv2.threshold(image, 127, 255, cv2.THRESH_BINARY)\n",
        "\n",
        "cv2_imshow(th)"
      ],
      "execution_count": 0,
      "outputs": []
    },
    {
      "cell_type": "markdown",
      "metadata": {
        "id": "-oW8fT6hydhv",
        "colab_type": "text"
      },
      "source": [
        "#### Método adaptativo"
      ]
    },
    {
      "cell_type": "code",
      "metadata": {
        "id": "7SFuO4laxi7f",
        "colab_type": "code",
        "colab": {}
      },
      "source": [
        "th2 = cv2.adaptiveThreshold(image, 255, cv2.ADAPTIVE_THRESH_MEAN_C,\n",
        "                            cv2.THRESH_BINARY, 11, 2)\n",
        "th3 = cv2.adaptiveThreshold(image, 255, cv2.ADAPTIVE_THRESH_GAUSSIAN_C,\n",
        "                            cv2.THRESH_BINARY, 11, 2)"
      ],
      "execution_count": 0,
      "outputs": []
    },
    {
      "cell_type": "code",
      "metadata": {
        "id": "zVJvLi0iyiea",
        "colab_type": "code",
        "colab": {}
      },
      "source": [
        "cv2_imshow(th2)"
      ],
      "execution_count": 0,
      "outputs": []
    },
    {
      "cell_type": "code",
      "metadata": {
        "id": "CDg49QZgykTP",
        "colab_type": "code",
        "colab": {}
      },
      "source": [
        "cv2_imshow(th3)"
      ],
      "execution_count": 0,
      "outputs": []
    },
    {
      "cell_type": "markdown",
      "metadata": {
        "id": "9To3OyFLymKP",
        "colab_type": "text"
      },
      "source": [
        "#### Algoritmo Otsu"
      ]
    },
    {
      "cell_type": "code",
      "metadata": {
        "id": "sMixbEKBylpV",
        "colab_type": "code",
        "colab": {}
      },
      "source": [
        "_, th4 = cv2.threshold(image, 0, 255, cv2.THRESH_BINARY+cv2.THRESH_OTSU)\n",
        "\n",
        "cv2_imshow(th4)"
      ],
      "execution_count": 0,
      "outputs": []
    },
    {
      "cell_type": "markdown",
      "metadata": {
        "id": "ZL3amPFF8UWk",
        "colab_type": "text"
      },
      "source": [
        "### Como a iluminação pode afetar a limiarização?\n",
        "\n",
        "Teste variadas iluminações + algoritmos de limiarização, para a imagem `cromossomo.tif`"
      ]
    },
    {
      "cell_type": "code",
      "metadata": {
        "id": "RKXFEy5N9fwN",
        "colab_type": "code",
        "colab": {}
      },
      "source": [
        ""
      ],
      "execution_count": 0,
      "outputs": []
    },
    {
      "cell_type": "markdown",
      "metadata": {
        "id": "M1F8DY7w4mXB",
        "colab_type": "text"
      },
      "source": [
        "## Operações de vizinhança\n",
        "\n",
        "Filtro de suavização (de borda):\n",
        "\n",
        "*   Filtro de média\n",
        "*   Filtro Gaussiano\n",
        "\n",
        "\n",
        "Filtro de aguçamento (de borda):\n",
        "\n",
        "*   Laplaciano\n",
        "*   Sobel"
      ]
    },
    {
      "cell_type": "code",
      "metadata": {
        "id": "iNDP8bb--MTk",
        "colab_type": "code",
        "colab": {}
      },
      "source": [
        "image = cv2.imread('images/harry-potter.jpg')\n",
        "\n",
        "cv2_imshow(image)"
      ],
      "execution_count": 0,
      "outputs": []
    },
    {
      "cell_type": "code",
      "metadata": {
        "id": "Xy6OgNiS_Kwk",
        "colab_type": "code",
        "colab": {}
      },
      "source": [
        "kernel = np.ones((5, 5), np.float32)/25\n",
        "dst = cv2.filter2D(image, -1, kernel)\n",
        "\n",
        "cv2_imshow(dst)"
      ],
      "execution_count": 0,
      "outputs": []
    },
    {
      "cell_type": "code",
      "metadata": {
        "id": "uqjeVcW5AdLV",
        "colab_type": "code",
        "colab": {}
      },
      "source": [
        "blur = cv2.GaussianBlur(image, (5, 5), 0)\n",
        "\n",
        "cv2_imshow(blur)"
      ],
      "execution_count": 0,
      "outputs": []
    },
    {
      "cell_type": "code",
      "metadata": {
        "id": "6qrXE0LSBJSM",
        "colab_type": "code",
        "colab": {}
      },
      "source": [
        "image = cv2.imread('images/lena.png')\n",
        "\n",
        "cv2_imshow(image)"
      ],
      "execution_count": 0,
      "outputs": []
    },
    {
      "cell_type": "code",
      "metadata": {
        "id": "DVVrA3dABQpE",
        "colab_type": "code",
        "colab": {}
      },
      "source": [
        "median = cv2.medianBlur(image, 5)"
      ],
      "execution_count": 0,
      "outputs": []
    },
    {
      "cell_type": "markdown",
      "metadata": {
        "id": "sHLnT42s-tXl",
        "colab_type": "text"
      },
      "source": [
        "### Os filtros ajudam a melhorar o resultado anterior?"
      ]
    },
    {
      "cell_type": "code",
      "metadata": {
        "id": "3BjTA4ED--x9",
        "colab_type": "code",
        "colab": {}
      },
      "source": [
        ""
      ],
      "execution_count": 0,
      "outputs": []
    },
    {
      "cell_type": "markdown",
      "metadata": {
        "id": "YNcHZnV1ld94",
        "colab_type": "text"
      },
      "source": [
        "# Detecção de bordas"
      ]
    },
    {
      "cell_type": "markdown",
      "metadata": {
        "id": "zSlzdx7lmpum",
        "colab_type": "text"
      },
      "source": [
        "### Contornos\n",
        "\n",
        "![contornos](https://freepythontips.files.wordpress.com/2015/03/find_books_output.jpg)\n",
        "\n",
        "\n",
        "Possuem algumas propriedades:\n",
        "\n",
        "\n",
        "*   Centroide\n",
        "*   Área\n",
        "*   Perímetro\n",
        "*   Bounding Box\n",
        "*   ...\n",
        "\n"
      ]
    },
    {
      "cell_type": "markdown",
      "metadata": {
        "id": "kjCVriRam2He",
        "colab_type": "text"
      },
      "source": [
        "### Identificação de contornos\n",
        "\n",
        "\n",
        "*   `cv2.findContours`\n",
        "*   `cv2.drawContours`\n",
        "\n"
      ]
    },
    {
      "cell_type": "code",
      "metadata": {
        "id": "pgG3UC2blg-f",
        "colab_type": "code",
        "outputId": "25a5243e-49bd-4ed7-969a-7df01c849725",
        "colab": {
          "base_uri": "https://localhost:8080/",
          "height": 317
        }
      },
      "source": [
        "image = cv2.imread('images/basic_shapes.png')\n",
        "gray = cv2.cvtColor(image, cv2.COLOR_BGR2GRAY)\n",
        "\n",
        "cv2_imshow(image)"
      ],
      "execution_count": 0,
      "outputs": [
        {
          "output_type": "display_data",
          "data": {
            "image/png": "[encoded data removed]",
            "text/plain": [
              "<PIL.Image.Image image mode=RGB size=600x300 at 0x7FE581D56710>"
            ]
          },
          "metadata": {
            "tags": []
          }
        }
      ]
    },
    {
      "cell_type": "markdown",
      "metadata": {
        "id": "OhsxcMVzoZyJ",
        "colab_type": "text"
      },
      "source": [
        "Tipos de hierarquias:\n",
        "\n",
        "\n",
        "*   `cv2.RETR_LIST`: utiliza todos os contornos\n",
        "*   `cv2.RETR_EXTERNAL`: utiliza contornos externos\n",
        "*   `cv2.RETR_COMP`: utiliza todos os contornos em até 2 niveis de hierarquia\n",
        "*   `cv2.RETR_TREE`: utiliza todos os contornos em toda hierarquia\n",
        "\n"
      ]
    },
    {
      "cell_type": "code",
      "metadata": {
        "id": "RVVeZL3rnzgD",
        "colab_type": "code",
        "outputId": "14afcc45-6ae6-4152-c3e8-5f7d26e5dc1d",
        "colab": {
          "base_uri": "https://localhost:8080/",
          "height": 317
        }
      },
      "source": [
        "cnts, hier = cv2.findContours(gray, cv2.RETR_LIST, cv2.CHAIN_APPROX_SIMPLE)\n",
        "\n",
        "copia = image.copy()\n",
        "\n",
        "cv2.drawContours(copia, cnts, -1, (0, 0, 255), 2)\n",
        "cv2_imshow(copia)"
      ],
      "execution_count": 0,
      "outputs": [
        {
          "output_type": "display_data",
          "data": {
            "image/png": "[encoded data removed]",
            "text/plain": [
              "<PIL.Image.Image image mode=RGB size=600x300 at 0x7FE581E1F5C0>"
            ]
          },
          "metadata": {
            "tags": []
          }
        }
      ]
    },
    {
      "cell_type": "code",
      "metadata": {
        "id": "CcIJWzY-pvxS",
        "colab_type": "code",
        "outputId": "a1bcd22a-3674-4868-bb87-75b9c94d1a34",
        "colab": {
          "base_uri": "https://localhost:8080/",
          "height": 34
        }
      },
      "source": [
        "len(cnts)"
      ],
      "execution_count": 0,
      "outputs": [
        {
          "output_type": "execute_result",
          "data": {
            "text/plain": [
              "4"
            ]
          },
          "metadata": {
            "tags": []
          },
          "execution_count": 191
        }
      ]
    },
    {
      "cell_type": "markdown",
      "metadata": {
        "id": "GiEUMtfnpKUW",
        "colab_type": "text"
      },
      "source": [
        "#### Criando mascaras"
      ]
    },
    {
      "cell_type": "code",
      "metadata": {
        "id": "AIp0fdFsoRyY",
        "colab_type": "code",
        "outputId": "b9d93460-e56e-46c1-de35-b4f75b73088f",
        "colab": {
          "base_uri": "https://localhost:8080/",
          "height": 317
        }
      },
      "source": [
        "mask = np.zeros(gray.shape, dtype='uint8')\n",
        "cv2.drawContours(mask, [cnts[3]], -1, 255, -1)\n",
        "cv2_imshow(mask)"
      ],
      "execution_count": 0,
      "outputs": [
        {
          "output_type": "display_data",
          "data": {
            "image/png": "[encoded data removed]",
            "text/plain": [
              "<PIL.Image.Image image mode=L size=600x300 at 0x7FE581E1F828>"
            ]
          },
          "metadata": {
            "tags": []
          }
        }
      ]
    },
    {
      "cell_type": "code",
      "metadata": {
        "id": "PVPq-Rdhp1Hk",
        "colab_type": "code",
        "outputId": "6c72c9b1-baef-417f-99a6-eafbc4ece0b9",
        "colab": {
          "base_uri": "https://localhost:8080/",
          "height": 317
        }
      },
      "source": [
        "image_mask = cv2.bitwise_and(image, image, mask=mask)\n",
        "\n",
        "cv2_imshow(image_mask)"
      ],
      "execution_count": 0,
      "outputs": [
        {
          "output_type": "display_data",
          "data": {
            "image/png": "[encoded data removed]",
            "text/plain": [
              "<PIL.Image.Image image mode=RGB size=600x300 at 0x7FE581D56128>"
            ]
          },
          "metadata": {
            "tags": []
          }
        }
      ]
    },
    {
      "cell_type": "markdown",
      "metadata": {
        "id": "ynIhuGXtmu8f",
        "colab_type": "text"
      },
      "source": [
        "#### Sua vez!\n",
        "\n",
        "Teste com outras formas e experimente o `bitwise_or()`, `bitwise_not()`, `bitwise_xor()`.\n",
        "\n",
        "Material auxiliar:\n",
        "\n",
        "*   https://docs.opencv.org/master/d0/d86/tutorial_py_image_arithmetics.html"
      ]
    },
    {
      "cell_type": "code",
      "metadata": {
        "id": "abHSP4NondyY",
        "colab_type": "code",
        "colab": {}
      },
      "source": [
        ""
      ],
      "execution_count": 0,
      "outputs": []
    },
    {
      "cell_type": "markdown",
      "metadata": {
        "id": "1Jpx2xP-OtrI",
        "colab_type": "text"
      },
      "source": [
        "# Detecção de face (Haarcascade)\n",
        "\n",
        "![haar-cascade](https://live.staticflickr.com/7071/6884354772_7c4177c4bb_b.jpg)"
      ]
    },
    {
      "cell_type": "markdown",
      "metadata": {
        "id": "2GrwDbuAPATz",
        "colab_type": "text"
      },
      "source": [
        "## Tirar uma foto"
      ]
    },
    {
      "cell_type": "code",
      "metadata": {
        "id": "PIi2kB-NOwTq",
        "colab_type": "code",
        "colab": {}
      },
      "source": [
        "from IPython.display import Image\n",
        "try:\n",
        "  filename = take_photo()\n",
        "  print('Saved to {}'.format(filename))\n",
        "  \n",
        "  # Show the image which was just taken.\n",
        "  display(Image(filename))\n",
        "except Exception as err:\n",
        "  # Errors will be thrown if the user does not have a webcam or if they do not\n",
        "  # grant the page permission to access it.\n",
        "  print(str(err))"
      ],
      "execution_count": 0,
      "outputs": []
    },
    {
      "cell_type": "markdown",
      "metadata": {
        "id": "lPC5dwrYvSUg",
        "colab_type": "text"
      },
      "source": [
        "Se você não estiver utilizando o Google Colab:"
      ]
    },
    {
      "cell_type": "code",
      "metadata": {
        "id": "YQhPTQ7kvZhP",
        "colab_type": "code",
        "colab": {}
      },
      "source": [
        "cap = cv2.VideoCapture(0)\n",
        "\n",
        "while(True):\n",
        "    # Capture frame-by-frame\n",
        "    ret, frame = cap.read()\n",
        "\n",
        "    # Our operations on the frame come here\n",
        "    gray = cv2.cvtColor(frame, cv2.COLOR_BGR2GRAY)\n",
        "\n",
        "    # Display the resulting frame\n",
        "    cv2.imshow('frame',gray)\n",
        "    if cv2.waitKey(1) & 0xFF == ord('q'):\n",
        "        break\n",
        "\n",
        "# When everything done, release the capture\n",
        "cap.release()\n",
        "cv2.destroyAllWindows()"
      ],
      "execution_count": 0,
      "outputs": []
    },
    {
      "cell_type": "markdown",
      "metadata": {
        "id": "gFVdGqtOPMyh",
        "colab_type": "text"
      },
      "source": [
        "## Código!\n"
      ]
    },
    {
      "cell_type": "code",
      "metadata": {
        "id": "CuGx4CnbPGVH",
        "colab_type": "code",
        "colab": {}
      },
      "source": [
        "xml_path = 'haarcascade/haarcascade_frontalface_alt2.xml'\n",
        "clf = cv2.CascadeClassifier(xml_path)\n",
        "\n",
        "frame = cv2.imread('photo.jpg')\n",
        "gray = cv2.cvtColor(frame, cv2.COLOR_BGR2GRAY)\n",
        "\n",
        "faces = clf.detectMultiScale(gray)\n",
        "for x, y, w, h in faces:\n",
        "  cv2.rectangle(frame, (x, y), (x+w, y+h), (0, 155, 0), 2)\n",
        "\n",
        "cv2_imshow(frame)"
      ],
      "execution_count": 0,
      "outputs": []
    },
    {
      "cell_type": "markdown",
      "metadata": {
        "id": "6W3g6aTkXQhT",
        "colab_type": "text"
      },
      "source": [
        "## Sua vez!\n",
        "\n",
        "Utilize outros [modelos treinados](https://github.com/opencv/opencv/tree/master/data/haarcascades) (pode ser o de olhos que está na pasta `haarcascade/haarcascade_eye.xml`)\n",
        "\n",
        "Se você quiser, pode brincar com as ferramentas de desenho do OpenCV.\n"
      ]
    },
    {
      "cell_type": "code",
      "metadata": {
        "id": "0eCBORcC9tzb",
        "colab_type": "code",
        "colab": {}
      },
      "source": [
        ""
      ],
      "execution_count": 0,
      "outputs": []
    },
    {
      "cell_type": "markdown",
      "metadata": {
        "id": "rWKh5Qn6zWZ1",
        "colab_type": "text"
      },
      "source": [
        "# Detecção de palavras \\o\n",
        "\n",
        "\n",
        "Agora é sua vez!\n",
        "\n",
        "Utilizando a imagem `handwriter03.jpg` e tente desenhar um bounding box em cada linha (ou no máximo de palavras que você conseguir).\n",
        "\n",
        "\n",
        "Dica:\n",
        "*  Para desenhar quadrados (bounding box) em torno de um contorno, utilize a seguinte função:\n",
        "\n",
        "```\n",
        "(x, y, w, h) = cv2.boundingRect(c)\n",
        "cv2.rectangle(copia, (x, y), (x+w, y+h), (0, 255, 0), 2)\n",
        "```\n",
        "\n",
        "* Para recortar uma região de interesse na imagem (ROI):\n",
        "\n",
        "`image[y:y + h, x:x + w]`\n",
        "\n",
        "\n",
        "* Para calcular a área de um contorno:\n",
        "\n",
        "`area = cv2.contourArea(c)`\n",
        "\n",
        "\n"
      ]
    },
    {
      "cell_type": "code",
      "metadata": {
        "id": "4mb5svPJzYxP",
        "colab_type": "code",
        "colab": {}
      },
      "source": [
        ""
      ],
      "execution_count": 0,
      "outputs": []
    }
  ]
}