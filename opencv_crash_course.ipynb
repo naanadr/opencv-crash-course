{
  "nbformat": 4,
  "nbformat_minor": 0,
  "metadata": {
    "colab": {
      "name": "opencv-crash-course.ipynb",
      "provenance": [],
      "toc_visible": true,
      "authorship_tag": "ABX9TyNgcD+JeeBF4ara9gbkeg2q",
      "include_colab_link": true
    },
    "kernelspec": {
      "name": "python3",
      "display_name": "Python 3"
    }
  },
  "cells": [
    {
      "cell_type": "markdown",
      "metadata": {
        "id": "view-in-github",
        "colab_type": "text"
      },
      "source": [
        "<a href=\"https://colab.research.google.com/github/naanadr/opencv-crash-course/blob/master/opencv_crash_course.ipynb\" target=\"_parent\"><img src=\"https://colab.research.google.com/assets/colab-badge.svg\" alt=\"Open In Colab\"/></a>"
      ]
    },
    {
      "cell_type": "markdown",
      "metadata": {
        "id": "rLbz2ufrV_Aw",
        "colab_type": "text"
      },
      "source": [
        "# Apresentação\n",
        "\n",
        "![python-happy](https://cdn.instructables.com/FX2/ZGF0/JEYIRWX2/FX2ZGF0JEYIRWX2.LARGE.jpg?auto=webp&fit=bounds)\n",
        "\n",
        "\n",
        "Nesse breve *(bem breve)* curso você aprenderá alguns conceitos básicos de visão computacional e de OpenCV.\n",
        "\n",
        "Como o notebook será utilizado no GoogleColab não será preciso instalar nada.\n",
        "\n",
        "Meus contatos caso queira enviar feedbacks ou tirar dúvidas:\n",
        "* [GitHub](https://github.com/naanadr)\n",
        "* [Twitter](https://twitter.com/naanadr)\n",
        "* Telegram @naanadr\n",
        "\n",
        "Espero que gostem :)\n",
        "\n"
      ]
    },
    {
      "cell_type": "markdown",
      "metadata": {
        "id": "5wO8gZ_Ehvep",
        "colab_type": "text"
      },
      "source": [
        "## Configurações necessárias apenas para o GoogleColab\n",
        "\n",
        "Precisamos ter acesso as imagens que estão localizadas no repositório https://github.com/naanadr/opencv-crash-course, por isso iremos precisar clonar o repositório nessa seção do Colab.\n"
      ]
    },
    {
      "cell_type": "code",
      "metadata": {
        "id": "CAP9B9C2iIPi",
        "colab_type": "code",
        "colab": {
          "base_uri": "https://localhost:8080/",
          "height": 121
        },
        "outputId": "5016414f-482f-4584-f832-897652b980cb"
      },
      "source": [
        "!git clone https://github.com/naanadr/opencv-crash-course.git"
      ],
      "execution_count": 1,
      "outputs": [
        {
          "output_type": "stream",
          "text": [
            "Cloning into 'opencv-crash-course'...\n",
            "remote: Enumerating objects: 13, done.\u001b[K\n",
            "remote: Counting objects:   7% (1/13)\u001b[K\rremote: Counting objects:  15% (2/13)\u001b[K\rremote: Counting objects:  23% (3/13)\u001b[K\rremote: Counting objects:  30% (4/13)\u001b[K\rremote: Counting objects:  38% (5/13)\u001b[K\rremote: Counting objects:  46% (6/13)\u001b[K\rremote: Counting objects:  53% (7/13)\u001b[K\rremote: Counting objects:  61% (8/13)\u001b[K\rremote: Counting objects:  69% (9/13)\u001b[K\rremote: Counting objects:  76% (10/13)\u001b[K\rremote: Counting objects:  84% (11/13)\u001b[K\rremote: Counting objects:  92% (12/13)\u001b[K\rremote: Counting objects: 100% (13/13)\u001b[K\rremote: Counting objects: 100% (13/13), done.\u001b[K\n",
            "remote: Compressing objects:   8% (1/12)\u001b[K\rremote: Compressing objects:  16% (2/12)\u001b[K\rremote: Compressing objects:  25% (3/12)\u001b[K\rremote: Compressing objects:  33% (4/12)\u001b[K\rremote: Compressing objects:  41% (5/12)\u001b[K\rremote: Compressing objects:  50% (6/12)\u001b[K\rremote: Compressing objects:  58% (7/12)\u001b[K\rremote: Compressing objects:  66% (8/12)\u001b[K\rremote: Compressing objects:  75% (9/12)\u001b[K\rremote: Compressing objects:  83% (10/12)\u001b[K\rremote: Compressing objects:  91% (11/12)\u001b[K\rremote: Compressing objects: 100% (12/12)\u001b[K\rremote: Compressing objects: 100% (12/12), done.\u001b[K\n",
            "Unpacking objects:   7% (1/13)   \rUnpacking objects:  15% (2/13)   \rUnpacking objects:  23% (3/13)   \rUnpacking objects:  30% (4/13)   \rUnpacking objects:  38% (5/13)   \rUnpacking objects:  46% (6/13)   \rUnpacking objects:  53% (7/13)   \rUnpacking objects:  61% (8/13)   \rUnpacking objects:  69% (9/13)   \rremote: Total 13 (delta 0), reused 10 (delta 0), pack-reused 0\u001b[K\n",
            "Unpacking objects:  76% (10/13)   \rUnpacking objects:  84% (11/13)   \rUnpacking objects:  92% (12/13)   \rUnpacking objects: 100% (13/13)   \rUnpacking objects: 100% (13/13), done.\n"
          ],
          "name": "stdout"
        }
      ]
    },
    {
      "cell_type": "markdown",
      "metadata": {
        "id": "EFb2KZ6xiPl8",
        "colab_type": "text"
      },
      "source": [
        "Agora temos o projeto `opencv-crash-course` clonado no disco da nossa máquina.\n",
        "\n",
        "Mas se você der uma olhada em qual diretório nos estamos, você verá que não estamos dentro do `opencv-crash-course`"
      ]
    },
    {
      "cell_type": "code",
      "metadata": {
        "id": "2OX7MlmIitav",
        "colab_type": "code",
        "colab": {
          "base_uri": "https://localhost:8080/",
          "height": 34
        },
        "outputId": "9419ec93-6353-4676-88ac-25dac7cae825"
      },
      "source": [
        "!ls"
      ],
      "execution_count": 3,
      "outputs": [
        {
          "output_type": "stream",
          "text": [
            "opencv-crash-course  sample_data\n"
          ],
          "name": "stdout"
        }
      ]
    },
    {
      "cell_type": "markdown",
      "metadata": {
        "id": "dMpdW8W8i2Al",
        "colab_type": "text"
      },
      "source": [
        "Para acessar a pasta do projeto, precisamos executar um `cd` igual fazemos no `Windows` ou `Linux`."
      ]
    },
    {
      "cell_type": "code",
      "metadata": {
        "id": "vyVcU7DUixfA",
        "colab_type": "code",
        "colab": {
          "base_uri": "https://localhost:8080/",
          "height": 34
        },
        "outputId": "61faa1c0-1554-4467-8e83-48efaa5c45d4"
      },
      "source": [
        "cd opencv-crash-course/"
      ],
      "execution_count": 4,
      "outputs": [
        {
          "output_type": "stream",
          "text": [
            "/content/opencv-crash-course\n"
          ],
          "name": "stdout"
        }
      ]
    },
    {
      "cell_type": "code",
      "metadata": {
        "id": "FK-l5jdai0Ir",
        "colab_type": "code",
        "colab": {
          "base_uri": "https://localhost:8080/",
          "height": 34
        },
        "outputId": "ddaf41bc-d0ad-4598-a6f7-e4edaf203043"
      },
      "source": [
        "!ls"
      ],
      "execution_count": 5,
      "outputs": [
        {
          "output_type": "stream",
          "text": [
            "images\tREADME.md\n"
          ],
          "name": "stdout"
        }
      ]
    },
    {
      "cell_type": "markdown",
      "metadata": {
        "id": "Km8ZvQYrfTdE",
        "colab_type": "text"
      },
      "source": [
        "# Mas o que é OpenCV?"
      ]
    },
    {
      "cell_type": "markdown",
      "metadata": {
        "id": "PciJD3dbfWad",
        "colab_type": "text"
      },
      "source": [
        "## Por que não utilizar o Pillow?"
      ]
    },
    {
      "cell_type": "markdown",
      "metadata": {
        "id": "Xq6uv5hdfctQ",
        "colab_type": "text"
      },
      "source": [
        "# Conceitos de Visão Computacional"
      ]
    },
    {
      "cell_type": "markdown",
      "metadata": {
        "id": "mBg_Qk95f8Mq",
        "colab_type": "text"
      },
      "source": [
        "## O que é uma imagem?"
      ]
    },
    {
      "cell_type": "markdown",
      "metadata": {
        "id": "eurt3p3Bf_zo",
        "colab_type": "text"
      },
      "source": [
        "## Representações de uma imagem"
      ]
    },
    {
      "cell_type": "markdown",
      "metadata": {
        "id": "Auv3M7Fyg5UA",
        "colab_type": "text"
      },
      "source": [
        "## Vizinhança de pixels"
      ]
    },
    {
      "cell_type": "code",
      "metadata": {
        "id": "WJnmoY-EU00l",
        "colab_type": "code",
        "colab": {}
      },
      "source": [
        ""
      ],
      "execution_count": 0,
      "outputs": []
    }
  ]
}