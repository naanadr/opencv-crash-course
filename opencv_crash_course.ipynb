{
  "nbformat": 4,
  "nbformat_minor": 0,
  "metadata": {
    "colab": {
      "name": "opencv-crash-course.ipynb",
      "provenance": [],
      "authorship_tag": "ABX9TyNgjil4M1B0CTEwP5v0CpgS",
      "include_colab_link": true
    },
    "kernelspec": {
      "name": "python3",
      "display_name": "Python 3"
    }
  },
  "cells": [
    {
      "cell_type": "markdown",
      "metadata": {
        "id": "view-in-github",
        "colab_type": "text"
      },
      "source": [
        "<a href=\"https://colab.research.google.com/github/naanadr/opencv-crash-course/blob/master/opencv_crash_course.ipynb\" target=\"_parent\"><img src=\"https://colab.research.google.com/assets/colab-badge.svg\" alt=\"Open In Colab\"/></a>"
      ]
    },
    {
      "cell_type": "markdown",
      "metadata": {
        "id": "rLbz2ufrV_Aw",
        "colab_type": "text"
      },
      "source": [
        "# Apresentação\n",
        "\n",
        "![python-happy](https://cdn.instructables.com/FX2/ZGF0/JEYIRWX2/FX2ZGF0JEYIRWX2.LARGE.jpg?auto=webp&fit=bounds)\n",
        "\n",
        "\n",
        "Nesse breve *(bem breve)* curso você aprenderá alguns conceitos básicos de visão computacional e de OpenCV.\n",
        "\n",
        "Como o notebook será utilizado no GoogleColab não será preciso instalar nada.\n",
        "\n",
        "Meus contatos caso queira enviar feedbacks ou tirar dúvidas:\n",
        "* [GitHub](https://github.com/naanadr)\n",
        "* [Twitter](https://twitter.com/naanadr)\n",
        "* Telegram @naanadr\n",
        "\n",
        "Espero que gostem :)\n",
        "\n"
      ]
    },
    {
      "cell_type": "markdown",
      "metadata": {
        "id": "5wO8gZ_Ehvep",
        "colab_type": "text"
      },
      "source": [
        "## Configurações necessárias apenas para o GoogleColab\n",
        "\n",
        "Precisamos ter acesso as imagens que estão localizadas no repositório https://github.com/naanadr/opencv-crash-course. \n",
        "\n",
        "**Como vamos fazer isso?** Iremos precisar clonar (`git clone ...`) o repositório nessa seção do Colab.\n"
      ]
    },
    {
      "cell_type": "code",
      "metadata": {
        "id": "CAP9B9C2iIPi",
        "colab_type": "code",
        "colab": {
          "base_uri": "https://localhost:8080/",
          "height": 121
        },
        "outputId": "46bc762c-7847-4852-863c-7d6d981d8c81"
      },
      "source": [
        "!git clone https://github.com/naanadr/opencv-crash-course.git"
      ],
      "execution_count": 6,
      "outputs": [
        {
          "output_type": "stream",
          "text": [
            "Cloning into 'opencv-crash-course'...\n",
            "remote: Enumerating objects: 16, done.\u001b[K\n",
            "remote: Counting objects:   6% (1/16)\u001b[K\rremote: Counting objects:  12% (2/16)\u001b[K\rremote: Counting objects:  18% (3/16)\u001b[K\rremote: Counting objects:  25% (4/16)\u001b[K\rremote: Counting objects:  31% (5/16)\u001b[K\rremote: Counting objects:  37% (6/16)\u001b[K\rremote: Counting objects:  43% (7/16)\u001b[K\rremote: Counting objects:  50% (8/16)\u001b[K\rremote: Counting objects:  56% (9/16)\u001b[K\rremote: Counting objects:  62% (10/16)\u001b[K\rremote: Counting objects:  68% (11/16)\u001b[K\rremote: Counting objects:  75% (12/16)\u001b[K\rremote: Counting objects:  81% (13/16)\u001b[K\rremote: Counting objects:  87% (14/16)\u001b[K\rremote: Counting objects:  93% (15/16)\u001b[K\rremote: Counting objects: 100% (16/16)\u001b[K\rremote: Counting objects: 100% (16/16), done.\u001b[K\n",
            "remote: Compressing objects:   6% (1/15)\u001b[K\rremote: Compressing objects:  13% (2/15)\u001b[K\rremote: Compressing objects:  20% (3/15)\u001b[K\rremote: Compressing objects:  26% (4/15)\u001b[K\rremote: Compressing objects:  33% (5/15)\u001b[K\rremote: Compressing objects:  40% (6/15)\u001b[K\rremote: Compressing objects:  46% (7/15)\u001b[K\rremote: Compressing objects:  53% (8/15)\u001b[K\rremote: Compressing objects:  60% (9/15)\u001b[K\rremote: Compressing objects:  66% (10/15)\u001b[K\rremote: Compressing objects:  73% (11/15)\u001b[K\rremote: Compressing objects:  80% (12/15)\u001b[K\rremote: Compressing objects:  86% (13/15)\u001b[K\rremote: Compressing objects:  93% (14/15)\u001b[K\rremote: Compressing objects: 100% (15/15)\u001b[K\rremote: Compressing objects: 100% (15/15), done.\u001b[K\n",
            "Unpacking objects:   6% (1/16)   \rUnpacking objects:  12% (2/16)   \rUnpacking objects:  18% (3/16)   \rUnpacking objects:  25% (4/16)   \rUnpacking objects:  31% (5/16)   \rUnpacking objects:  37% (6/16)   \rUnpacking objects:  43% (7/16)   \rUnpacking objects:  50% (8/16)   \rUnpacking objects:  56% (9/16)   \rUnpacking objects:  62% (10/16)   \rUnpacking objects:  68% (11/16)   \rremote: Total 16 (delta 1), reused 9 (delta 0), pack-reused 0\u001b[K\n",
            "Unpacking objects:  75% (12/16)   \rUnpacking objects:  81% (13/16)   \rUnpacking objects:  87% (14/16)   \rUnpacking objects:  93% (15/16)   \rUnpacking objects: 100% (16/16)   \rUnpacking objects: 100% (16/16), done.\n"
          ],
          "name": "stdout"
        }
      ]
    },
    {
      "cell_type": "markdown",
      "metadata": {
        "id": "EFb2KZ6xiPl8",
        "colab_type": "text"
      },
      "source": [
        "Agora temos o projeto `opencv-crash-course` clonado no disco da nossa máquina.\n",
        "\n",
        "Mas se você der uma olhada em qual diretório nos estamos, você verá que não estamos dentro do `opencv-crash-course`"
      ]
    },
    {
      "cell_type": "code",
      "metadata": {
        "id": "2OX7MlmIitav",
        "colab_type": "code",
        "colab": {
          "base_uri": "https://localhost:8080/",
          "height": 34
        },
        "outputId": "9419ec93-6353-4676-88ac-25dac7cae825"
      },
      "source": [
        "!ls"
      ],
      "execution_count": 3,
      "outputs": [
        {
          "output_type": "stream",
          "text": [
            "opencv-crash-course  sample_data\n"
          ],
          "name": "stdout"
        }
      ]
    },
    {
      "cell_type": "markdown",
      "metadata": {
        "id": "dMpdW8W8i2Al",
        "colab_type": "text"
      },
      "source": [
        "Para acessar a pasta do projeto, precisamos executar um `cd` igual fazemos no `Windows` ou `Linux`."
      ]
    },
    {
      "cell_type": "code",
      "metadata": {
        "id": "vyVcU7DUixfA",
        "colab_type": "code",
        "colab": {
          "base_uri": "https://localhost:8080/",
          "height": 34
        },
        "outputId": "61faa1c0-1554-4467-8e83-48efaa5c45d4"
      },
      "source": [
        "cd opencv-crash-course/"
      ],
      "execution_count": 4,
      "outputs": [
        {
          "output_type": "stream",
          "text": [
            "/content/opencv-crash-course\n"
          ],
          "name": "stdout"
        }
      ]
    },
    {
      "cell_type": "code",
      "metadata": {
        "id": "FK-l5jdai0Ir",
        "colab_type": "code",
        "colab": {
          "base_uri": "https://localhost:8080/",
          "height": 34
        },
        "outputId": "ddaf41bc-d0ad-4598-a6f7-e4edaf203043"
      },
      "source": [
        "!ls"
      ],
      "execution_count": 5,
      "outputs": [
        {
          "output_type": "stream",
          "text": [
            "images\tREADME.md\n"
          ],
          "name": "stdout"
        }
      ]
    },
    {
      "cell_type": "markdown",
      "metadata": {
        "id": "Km8ZvQYrfTdE",
        "colab_type": "text"
      },
      "source": [
        "# Mas o que é OpenCV?\n",
        "\n",
        "![logo-opencv](https://i0.wp.com/syncedreview.com/wp-content/uploads/2019/04/image-38-2.png?resize=1440%2C521&ssl=1)"
      ]
    },
    {
      "cell_type": "markdown",
      "metadata": {
        "id": "HrEFTj_6kYEH",
        "colab_type": "text"
      },
      "source": [
        "**Open Source Computer Vision Library** ou OpenCV *para os amigos*, é uma biblioteca de **Visão Computacional** de alto desempenho e com [código aberto](https://github.com/opencv/opencv).\n",
        "\n",
        "\n",
        "\n",
        "*   **1999-2008**\n",
        "\n",
        "  Intel\n",
        "\n",
        "  OpenCV 1.x\n",
        "  \n",
        "  Linguagem: C\n",
        "\n",
        "*   **2008-2012**\n",
        "\n",
        "  Willow Garage\n",
        "  \n",
        "  OpenCV 2.x\n",
        "\n",
        "  Linguagem: C++\n",
        "\n",
        "*  **2012-Atualmente**\n",
        "\n",
        "  Itseez E OpenCV Foundation\n",
        "\n",
        "  Opencv 3.x e 4.x\n",
        "\n",
        "  Linguage: C++, MATLAB, Python e Java\n",
        "\n",
        "  Suportado em: Windows, Linux, Android e Mac OS\n"
      ]
    },
    {
      "cell_type": "markdown",
      "metadata": {
        "id": "yL1XIZ6HqyjG",
        "colab_type": "text"
      },
      "source": [
        "O OpenCV é bem abrangente \\o/\n",
        "\n",
        "\n",
        "![mod-opencv](https://static.packt-cdn.com/products/9781789344912/graphics/5b11d8ad-3e44-4c08-b171-f202986a471f.png)"
      ]
    },
    {
      "cell_type": "markdown",
      "metadata": {
        "id": "c_bIURyIpkDD",
        "colab_type": "text"
      },
      "source": [
        "## Documentação\n",
        "\n",
        "\n",
        "\n",
        "*   [Todas as versões](https://docs.opencv.org/)\n",
        "*   [4.2.0](https://docs.opencv.org/4.2.0/)\n",
        "\n"
      ]
    },
    {
      "cell_type": "markdown",
      "metadata": {
        "id": "PciJD3dbfWad",
        "colab_type": "text"
      },
      "source": [
        "## Por que não utilizar o [Pillow](https://pillow.readthedocs.io/en/stable/)?\n",
        "\n",
        "O Pillow serve para *carregar, processar e criar* imagens, o OpenCV é mais *robusto*."
      ]
    },
    {
      "cell_type": "markdown",
      "metadata": {
        "id": "Xq6uv5hdfctQ",
        "colab_type": "text"
      },
      "source": [
        "# Conceitos de Visão Computacional\n",
        "\n",
        "![visao](https://encrypted-tbn0.gstatic.com/images?q=tbn%3AANd9GcRJ23xbK61X3NrPdGIJXSJK0RK-xYEg4Hfc7Z-YelBYkxrCflc3)"
      ]
    },
    {
      "cell_type": "markdown",
      "metadata": {
        "id": "RE8lAGdZ0cbv",
        "colab_type": "text"
      },
      "source": [
        "## O que é Visão Computacional?\n",
        "\n",
        "É a capacidade de replicar a visão humana utilizando softwares e hardwares.\n",
        "\n",
        "A visão humana é capaz de reconhecer objetos, além de conseguir se adaptar a variações de luz, perspectiva, tamanho de um objeto e de uma cena.\n",
        "\n",
        "A partir do reconhecimento de objetos, a visão consegue extrair significados que ajudam em uma tomada de decisão. "
      ]
    },
    {
      "cell_type": "markdown",
      "metadata": {
        "id": "mBg_Qk95f8Mq",
        "colab_type": "text"
      },
      "source": [
        "## O que é uma imagem?\n",
        "\n",
        "![image-matriz](https://s.aolcdn.com/hss/storage/midas/4aeec6942154616778c945d280c5257a/204245867/Untitled.png)\n",
        "\n",
        "\n"
      ]
    },
    {
      "cell_type": "markdown",
      "metadata": {
        "id": "8-ERerRC6cR7",
        "colab_type": "text"
      },
      "source": [
        "![image-pos-matriz](https://media.geeksforgeeks.org/wp-content/uploads/gfg2-5.png)\n",
        "\n",
        "É uma matriz de números inteiros!"
      ]
    },
    {
      "cell_type": "markdown",
      "metadata": {
        "id": "S2yGtTfO5jE-",
        "colab_type": "text"
      },
      "source": [
        "### Imagens coloridas (RGB)\n"
      ]
    },
    {
      "cell_type": "markdown",
      "metadata": {
        "id": "NYtDX25vj6A_",
        "colab_type": "text"
      },
      "source": [
        "![rgb-representacao](https://corochann.com/wp-content/uploads/2017/04/cnn_diagram_notation.png) "
      ]
    },
    {
      "cell_type": "markdown",
      "metadata": {
        "id": "UsZ-f4Zj7bqu",
        "colab_type": "text"
      },
      "source": [
        "#### Código! \n",
        "\n",
        "Antes vamos importar o OpenCV.\n",
        "\n",
        "Lembrando que estamos utilizando o Google Colab e ele já tem o OpenCV instalado.\n",
        "\n",
        "PS: No Colab iremos utilizar o `cv2_imshow`, porque o `cv2.imshow()` do OpenCV não funciona aqui. "
      ]
    },
    {
      "cell_type": "code",
      "metadata": {
        "id": "pL8h8E4Z7Doz",
        "colab_type": "code",
        "colab": {}
      },
      "source": [
        "import cv2"
      ],
      "execution_count": 0,
      "outputs": []
    },
    {
      "cell_type": "code",
      "metadata": {
        "id": "srfBDZjl72iW",
        "colab_type": "code",
        "colab": {}
      },
      "source": [
        "from google.colab.patches import cv2_imshow"
      ],
      "execution_count": 0,
      "outputs": []
    },
    {
      "cell_type": "markdown",
      "metadata": {
        "id": "_seJoXzQ8h41",
        "colab_type": "text"
      },
      "source": [
        "### Leitura de imagem\n"
      ]
    },
    {
      "cell_type": "code",
      "metadata": {
        "id": "GphVMH-77gpH",
        "colab_type": "code",
        "colab": {}
      },
      "source": [
        "image = cv2.imread('images/panda01.jpg')"
      ],
      "execution_count": 0,
      "outputs": []
    },
    {
      "cell_type": "code",
      "metadata": {
        "id": "egpe_cdt8LA7",
        "colab_type": "code",
        "colab": {}
      },
      "source": [
        "image"
      ],
      "execution_count": 0,
      "outputs": []
    },
    {
      "cell_type": "code",
      "metadata": {
        "id": "K2HecIFU8WW9",
        "colab_type": "code",
        "colab": {}
      },
      "source": [
        "cv2_imshow(image)\n",
        "#cv2.imshow(image)"
      ],
      "execution_count": 0,
      "outputs": []
    },
    {
      "cell_type": "markdown",
      "metadata": {
        "id": "xwOhKqBP9077",
        "colab_type": "text"
      },
      "source": [
        "### Informações sobre a imagem\n",
        "\n",
        "\n",
        "\n",
        "*   Forma (altura, largura e quantidade de canais)\n",
        "*   Tamanho (em pixels)\n",
        "\n"
      ]
    },
    {
      "cell_type": "code",
      "metadata": {
        "colab_type": "code",
        "outputId": "4cc3e468-1f60-42da-a92d-18849e5957da",
        "id": "ya0IGNewB6vM",
        "colab": {
          "base_uri": "https://localhost:8080/",
          "height": 34
        }
      },
      "source": [
        "image.shape"
      ],
      "execution_count": 0,
      "outputs": [
        {
          "output_type": "execute_result",
          "data": {
            "text/plain": [
              "(452, 678, 3)"
            ]
          },
          "metadata": {
            "tags": []
          },
          "execution_count": 17
        }
      ]
    },
    {
      "cell_type": "code",
      "metadata": {
        "id": "TrerFvJ6Bvjy",
        "colab_type": "code",
        "colab": {}
      },
      "source": [
        "height, width, channels = image.shape"
      ],
      "execution_count": 0,
      "outputs": []
    },
    {
      "cell_type": "code",
      "metadata": {
        "id": "twrKI0zd_7RA",
        "colab_type": "code",
        "colab": {
          "base_uri": "https://localhost:8080/",
          "height": 34
        },
        "outputId": "ff64d5dd-ecf6-4282-d4c1-4a67c1a0ef43"
      },
      "source": [
        "image.size  # height * width * channels"
      ],
      "execution_count": 20,
      "outputs": [
        {
          "output_type": "execute_result",
          "data": {
            "text/plain": [
              "919368"
            ]
          },
          "metadata": {
            "tags": []
          },
          "execution_count": 20
        }
      ]
    },
    {
      "cell_type": "markdown",
      "metadata": {
        "id": "pnA51WT8Bkrt",
        "colab_type": "text"
      },
      "source": [
        "### Como ler uma imagem em tons de cinza?\n",
        "\n",
        "`cv2.imread(path, flag)`\n",
        "\n",
        "Flag pode ser 1 (com cor), 0 (em tons de cinza), -1 (inclui o canal alfa).\n"
      ]
    },
    {
      "cell_type": "code",
      "metadata": {
        "id": "k5RQRfzjCFVa",
        "colab_type": "code",
        "colab": {}
      },
      "source": [
        "image_gray = cv2.imread('images/panda01.jpg', 0)\n",
        "\n",
        "cv2_imshow(image_gray)"
      ],
      "execution_count": 0,
      "outputs": []
    },
    {
      "cell_type": "code",
      "metadata": {
        "id": "8licbtvFD521",
        "colab_type": "code",
        "colab": {}
      },
      "source": [
        "image"
      ],
      "execution_count": 0,
      "outputs": []
    },
    {
      "cell_type": "code",
      "metadata": {
        "id": "4_GmPyfxD9Zh",
        "colab_type": "code",
        "colab": {}
      },
      "source": [
        "image_gray"
      ],
      "execution_count": 0,
      "outputs": []
    },
    {
      "cell_type": "code",
      "metadata": {
        "id": "9IhUeeOvlqQJ",
        "colab_type": "code",
        "colab": {}
      },
      "source": [
        "image_gray.shape"
      ],
      "execution_count": 0,
      "outputs": []
    },
    {
      "cell_type": "markdown",
      "metadata": {
        "id": "5CajeLfMh0ie",
        "colab_type": "text"
      },
      "source": [
        "![gray-matriz](https://edtech.engineering.utoronto.ca/sites/default/files/M6_2DImageDigitalRepresentation.png)\n"
      ]
    },
    {
      "cell_type": "markdown",
      "metadata": {
        "id": "Auv3M7Fyg5UA",
        "colab_type": "text"
      },
      "source": [
        "## Vizinhança de pixels"
      ]
    },
    {
      "cell_type": "code",
      "metadata": {
        "id": "WJnmoY-EU00l",
        "colab_type": "code",
        "colab": {}
      },
      "source": [
        ""
      ],
      "execution_count": 0,
      "outputs": []
    }
  ]
}